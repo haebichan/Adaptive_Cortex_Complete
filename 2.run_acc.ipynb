{
 "cells": [
  {
   "cell_type": "code",
   "execution_count": null,
   "id": "9effc6fc-e623-494b-b59f-cfc4a2ca77b9",
   "metadata": {
    "scrolled": true
   },
   "outputs": [],
   "source": [
    "import yaml\n",
    "import os\n",
    "import json\n",
    "from snowflake.snowpark.session import Session\n",
    "from acc import adaptive_cortex_complete_over_table\n",
    "\n",
    "%load_ext autoreload\n",
    "%autoreload 2"
   ]
  },
  {
   "cell_type": "code",
   "execution_count": null,
   "id": "7c2fef1e-c0d3-474f-b85d-eb921c4fa866",
   "metadata": {},
   "outputs": [],
   "source": [
    "# Connect to Snowflake\n",
    "connection_parameters = json.load(open('connection.json'))\n",
    "\n",
    "session = Session.builder.configs(connection_parameters).create()\n",
    "session.sql_simplifier_enabled = True"
   ]
  },
  {
   "cell_type": "code",
   "execution_count": null,
   "id": "e70cee03-81ac-40ae-85c5-e7e701757ff6",
   "metadata": {},
   "outputs": [],
   "source": [
    "# Example run over a table column\n",
    "out = adaptive_cortex_complete_over_table(\n",
    "    session=session,\n",
    "    base_prompt=\"Can you summarize this for me?\",\n",
    "    table_name=\"dash_db.dash_schema.support_tickets\",\n",
    "    col_name=\"REQUEST\",\n",
    "    id_col=None,                   # or None if you don’t have one\n",
    "    limit=2,                      # test on first 10 rows\n",
    "    # write_to_table=\"ADAPTIVE_RESULTS\"  # optional sink\n",
    ")\n"
   ]
  },
  {
   "cell_type": "code",
   "execution_count": null,
   "id": "097d2daa-249c-41b6-a02a-454cd1ebe5b7",
   "metadata": {},
   "outputs": [],
   "source": []
  },
  {
   "cell_type": "code",
   "execution_count": null,
   "id": "15ce0d19-4fbb-4017-b01d-4a2acceabd69",
   "metadata": {},
   "outputs": [],
   "source": []
  }
 ],
 "metadata": {
  "kernelspec": {
   "display_name": "Python 3 (ipykernel)",
   "language": "python",
   "name": "python3"
  },
  "language_info": {
   "codemirror_mode": {
    "name": "ipython",
    "version": 3
   },
   "file_extension": ".py",
   "mimetype": "text/x-python",
   "name": "python",
   "nbconvert_exporter": "python",
   "pygments_lexer": "ipython3",
   "version": "3.10.14"
  }
 },
 "nbformat": 4,
 "nbformat_minor": 5
}
